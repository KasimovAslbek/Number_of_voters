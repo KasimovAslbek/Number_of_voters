{
  "nbformat": 4,
  "nbformat_minor": 0,
  "metadata": {
    "colab": {
      "name": "Untitled1.ipynb",
      "provenance": [],
      "collapsed_sections": []
    },
    "kernelspec": {
      "name": "python3",
      "display_name": "Python 3"
    },
    "language_info": {
      "name": "python"
    }
  },
  "cells": [
    {
      "cell_type": "code",
      "metadata": {
        "id": "3XhaZ6G6gw9y"
      },
      "source": [
        "import pandas as pd\n",
        "import numpy as np\n",
        "import seaborn as sns\n",
        "import matplotlib.pyplot as plt"
      ],
      "execution_count": 3,
      "outputs": []
    },
    {
      "cell_type": "code",
      "metadata": {
        "colab": {
          "base_uri": "https://localhost:8080/"
        },
        "id": "-vUzma8_hDjy",
        "outputId": "1be129fc-596e-4959-9b44-b870c2f5ce8a"
      },
      "source": [
        "!pip install geopandas\n",
        "!pip install descartes "
      ],
      "execution_count": 5,
      "outputs": [
        {
          "output_type": "stream",
          "text": [
            "Collecting geopandas\n",
            "  Downloading geopandas-0.9.0-py2.py3-none-any.whl (994 kB)\n",
            "\u001b[K     |████████████████████████████████| 994 kB 4.1 MB/s \n",
            "\u001b[?25hRequirement already satisfied: shapely>=1.6 in /usr/local/lib/python3.7/dist-packages (from geopandas) (1.7.1)\n",
            "Collecting pyproj>=2.2.0\n",
            "  Downloading pyproj-3.1.0-cp37-cp37m-manylinux2010_x86_64.whl (6.6 MB)\n",
            "\u001b[K     |████████████████████████████████| 6.6 MB 16.4 MB/s \n",
            "\u001b[?25hCollecting fiona>=1.8\n",
            "  Downloading Fiona-1.8.20-cp37-cp37m-manylinux1_x86_64.whl (15.4 MB)\n",
            "\u001b[K     |████████████████████████████████| 15.4 MB 43 kB/s \n",
            "\u001b[?25hRequirement already satisfied: pandas>=0.24.0 in /usr/local/lib/python3.7/dist-packages (from geopandas) (1.1.5)\n",
            "Requirement already satisfied: click>=4.0 in /usr/local/lib/python3.7/dist-packages (from fiona>=1.8->geopandas) (7.1.2)\n",
            "Collecting cligj>=0.5\n",
            "  Downloading cligj-0.7.2-py3-none-any.whl (7.1 kB)\n",
            "Collecting click-plugins>=1.0\n",
            "  Downloading click_plugins-1.1.1-py2.py3-none-any.whl (7.5 kB)\n",
            "Requirement already satisfied: six>=1.7 in /usr/local/lib/python3.7/dist-packages (from fiona>=1.8->geopandas) (1.15.0)\n",
            "Requirement already satisfied: attrs>=17 in /usr/local/lib/python3.7/dist-packages (from fiona>=1.8->geopandas) (21.2.0)\n",
            "Requirement already satisfied: setuptools in /usr/local/lib/python3.7/dist-packages (from fiona>=1.8->geopandas) (57.2.0)\n",
            "Requirement already satisfied: certifi in /usr/local/lib/python3.7/dist-packages (from fiona>=1.8->geopandas) (2021.5.30)\n",
            "Collecting munch\n",
            "  Downloading munch-2.5.0-py2.py3-none-any.whl (10 kB)\n",
            "Requirement already satisfied: pytz>=2017.2 in /usr/local/lib/python3.7/dist-packages (from pandas>=0.24.0->geopandas) (2018.9)\n",
            "Requirement already satisfied: numpy>=1.15.4 in /usr/local/lib/python3.7/dist-packages (from pandas>=0.24.0->geopandas) (1.19.5)\n",
            "Requirement already satisfied: python-dateutil>=2.7.3 in /usr/local/lib/python3.7/dist-packages (from pandas>=0.24.0->geopandas) (2.8.1)\n",
            "Installing collected packages: munch, cligj, click-plugins, pyproj, fiona, geopandas\n",
            "Successfully installed click-plugins-1.1.1 cligj-0.7.2 fiona-1.8.20 geopandas-0.9.0 munch-2.5.0 pyproj-3.1.0\n",
            "Requirement already satisfied: descartes in /usr/local/lib/python3.7/dist-packages (1.1.0)\n",
            "Requirement already satisfied: matplotlib in /usr/local/lib/python3.7/dist-packages (from descartes) (3.2.2)\n",
            "Requirement already satisfied: numpy>=1.11 in /usr/local/lib/python3.7/dist-packages (from matplotlib->descartes) (1.19.5)\n",
            "Requirement already satisfied: python-dateutil>=2.1 in /usr/local/lib/python3.7/dist-packages (from matplotlib->descartes) (2.8.1)\n",
            "Requirement already satisfied: pyparsing!=2.0.4,!=2.1.2,!=2.1.6,>=2.0.1 in /usr/local/lib/python3.7/dist-packages (from matplotlib->descartes) (2.4.7)\n",
            "Requirement already satisfied: kiwisolver>=1.0.1 in /usr/local/lib/python3.7/dist-packages (from matplotlib->descartes) (1.3.1)\n",
            "Requirement already satisfied: cycler>=0.10 in /usr/local/lib/python3.7/dist-packages (from matplotlib->descartes) (0.10.0)\n",
            "Requirement already satisfied: six in /usr/local/lib/python3.7/dist-packages (from cycler>=0.10->matplotlib->descartes) (1.15.0)\n"
          ],
          "name": "stdout"
        }
      ]
    },
    {
      "cell_type": "code",
      "metadata": {
        "id": "0e9D6f49hDhC"
      },
      "source": [
        "import geopandas as gpd\n"
      ],
      "execution_count": 6,
      "outputs": []
    },
    {
      "cell_type": "code",
      "metadata": {
        "colab": {
          "base_uri": "https://localhost:8080/"
        },
        "id": "BM0stakfhDei",
        "outputId": "b65f8585-461f-4537-c98c-30d5081e7d5c"
      },
      "source": [
        "!pip install pyshp"
      ],
      "execution_count": 8,
      "outputs": [
        {
          "output_type": "stream",
          "text": [
            "Collecting pyshp\n",
            "  Downloading pyshp-2.1.3.tar.gz (219 kB)\n",
            "\u001b[K     |████████████████████████████████| 219 kB 4.1 MB/s \n",
            "\u001b[?25hBuilding wheels for collected packages: pyshp\n",
            "  Building wheel for pyshp (setup.py) ... \u001b[?25l\u001b[?25hdone\n",
            "  Created wheel for pyshp: filename=pyshp-2.1.3-py3-none-any.whl size=37324 sha256=aca114b7305de2dce26032a03d0c70046db2e0928155dda8012c8a03793e2f74\n",
            "  Stored in directory: /root/.cache/pip/wheels/43/f8/87/53c8cd41545ba20e536ea29a8fcb5431b5f477ca50d5dffbbe\n",
            "Successfully built pyshp\n",
            "Installing collected packages: pyshp\n",
            "Successfully installed pyshp-2.1.3\n"
          ],
          "name": "stdout"
        }
      ]
    },
    {
      "cell_type": "code",
      "metadata": {
        "id": "7LS7Ip6ChDbq"
      },
      "source": [
        "import shapefile as shp"
      ],
      "execution_count": 9,
      "outputs": []
    },
    {
      "cell_type": "code",
      "metadata": {
        "id": "hE67W2ANhDZU"
      },
      "source": [
        "sf = shp.Reader(\"uzb_admbnda_adm1_2018b.shp\")"
      ],
      "execution_count": 10,
      "outputs": []
    },
    {
      "cell_type": "code",
      "metadata": {
        "colab": {
          "base_uri": "https://localhost:8080/"
        },
        "id": "DAyW18IQhDVC",
        "outputId": "c1bf580a-bd36-4fc3-a87b-46ff833ba0f5"
      },
      "source": [
        "len(sf.shapes())"
      ],
      "execution_count": 12,
      "outputs": [
        {
          "output_type": "execute_result",
          "data": {
            "text/plain": [
              "14"
            ]
          },
          "metadata": {
            "tags": []
          },
          "execution_count": 12
        }
      ]
    },
    {
      "cell_type": "code",
      "metadata": {
        "id": "trJTunbvhDJS"
      },
      "source": [
        "def read_shapefile(sf):\n",
        "    \"\"\"\n",
        "    Read a shapefile into a Pandas dataframe with a 'coords' \n",
        "    column holding the geometry information. This uses the pyshp\n",
        "    package\n",
        "    \"\"\"\n",
        "    fields = [x[0] for x in sf.fields][1:]\n",
        "    records = sf.records()\n",
        "    shps = [s.points for s in sf.shapes()]\n",
        "    df = pd.DataFrame(columns=fields, data=records)\n",
        "    df = df.assign(coords=shps)\n",
        "    return df"
      ],
      "execution_count": 13,
      "outputs": []
    },
    {
      "cell_type": "code",
      "metadata": {
        "colab": {
          "base_uri": "https://localhost:8080/"
        },
        "id": "bFQzYwfnignS",
        "outputId": "395e7939-97aa-4bb0-bddd-2e598c798c2d"
      },
      "source": [
        "df = read_shapefile(sf)\n",
        "df.shape"
      ],
      "execution_count": 14,
      "outputs": [
        {
          "output_type": "execute_result",
          "data": {
            "text/plain": [
              "(14, 13)"
            ]
          },
          "metadata": {
            "tags": []
          },
          "execution_count": 14
        }
      ]
    },
    {
      "cell_type": "code",
      "metadata": {
        "colab": {
          "base_uri": "https://localhost:8080/",
          "height": 378
        },
        "id": "MoD0ji-Zil3x",
        "outputId": "8b7c729e-7890-4d03-da41-9d6669e965db"
      },
      "source": [
        "df.head()"
      ],
      "execution_count": 15,
      "outputs": [
        {
          "output_type": "execute_result",
          "data": {
            "text/html": [
              "<div>\n",
              "<style scoped>\n",
              "    .dataframe tbody tr th:only-of-type {\n",
              "        vertical-align: middle;\n",
              "    }\n",
              "\n",
              "    .dataframe tbody tr th {\n",
              "        vertical-align: top;\n",
              "    }\n",
              "\n",
              "    .dataframe thead th {\n",
              "        text-align: right;\n",
              "    }\n",
              "</style>\n",
              "<table border=\"1\" class=\"dataframe\">\n",
              "  <thead>\n",
              "    <tr style=\"text-align: right;\">\n",
              "      <th></th>\n",
              "      <th>ADM0_EN</th>\n",
              "      <th>ADM0_RU</th>\n",
              "      <th>ADM0_UZ</th>\n",
              "      <th>ADM0ALT1EN</th>\n",
              "      <th>ADM0_PCODE</th>\n",
              "      <th>ADM1_EN</th>\n",
              "      <th>ADM1_RU</th>\n",
              "      <th>ADM1_UZ</th>\n",
              "      <th>ADM1TYPE_E</th>\n",
              "      <th>ADM1TYPE_R</th>\n",
              "      <th>ADM1TYPE_U</th>\n",
              "      <th>ADM1_PCODE</th>\n",
              "      <th>coords</th>\n",
              "    </tr>\n",
              "  </thead>\n",
              "  <tbody>\n",
              "    <tr>\n",
              "      <th>0</th>\n",
              "      <td>Uzbekistan</td>\n",
              "      <td>Республика Узбекистан</td>\n",
              "      <td>O'zbekiston Respublikasi</td>\n",
              "      <td>Republic of Uzbekistan</td>\n",
              "      <td>UZ</td>\n",
              "      <td>Andizhan</td>\n",
              "      <td>Андижанская</td>\n",
              "      <td>Andijon</td>\n",
              "      <td>province</td>\n",
              "      <td>область</td>\n",
              "      <td>viloyati</td>\n",
              "      <td>UZ03</td>\n",
              "      <td>[(72.35866494475906, 41.064262062192235), (72....</td>\n",
              "    </tr>\n",
              "    <tr>\n",
              "      <th>1</th>\n",
              "      <td>Uzbekistan</td>\n",
              "      <td>Республика Узбекистан</td>\n",
              "      <td>O'zbekiston Respublikasi</td>\n",
              "      <td>Republic of Uzbekistan</td>\n",
              "      <td>UZ</td>\n",
              "      <td>Bukhara</td>\n",
              "      <td>Бухарская</td>\n",
              "      <td>Buxoro</td>\n",
              "      <td>province</td>\n",
              "      <td>область</td>\n",
              "      <td>viloyati</td>\n",
              "      <td>UZ06</td>\n",
              "      <td>[(63.67380106167065, 40.67515506182987), (63.6...</td>\n",
              "    </tr>\n",
              "    <tr>\n",
              "      <th>2</th>\n",
              "      <td>Uzbekistan</td>\n",
              "      <td>Республика Узбекистан</td>\n",
              "      <td>O'zbekiston Respublikasi</td>\n",
              "      <td>Republic of Uzbekistan</td>\n",
              "      <td>UZ</td>\n",
              "      <td>Dzhizak</td>\n",
              "      <td>Джизакская</td>\n",
              "      <td>Jizzax</td>\n",
              "      <td>province</td>\n",
              "      <td>область</td>\n",
              "      <td>viloyati</td>\n",
              "      <td>UZ08</td>\n",
              "      <td>[(67.32945994007521, 41.202655062321135), (67....</td>\n",
              "    </tr>\n",
              "    <tr>\n",
              "      <th>3</th>\n",
              "      <td>Uzbekistan</td>\n",
              "      <td>Республика Узбекистан</td>\n",
              "      <td>O'zbekiston Respublikasi</td>\n",
              "      <td>Republic of Uzbekistan</td>\n",
              "      <td>UZ</td>\n",
              "      <td>Fergana</td>\n",
              "      <td>Ферганская</td>\n",
              "      <td>Farg'ona</td>\n",
              "      <td>province</td>\n",
              "      <td>область</td>\n",
              "      <td>viloyati</td>\n",
              "      <td>UZ30</td>\n",
              "      <td>[(71.83503694427134, 39.985980061188044), (71....</td>\n",
              "    </tr>\n",
              "    <tr>\n",
              "      <th>4</th>\n",
              "      <td>Uzbekistan</td>\n",
              "      <td>Республика Узбекистан</td>\n",
              "      <td>O'zbekiston Respublikasi</td>\n",
              "      <td>Republic of Uzbekistan</td>\n",
              "      <td>UZ</td>\n",
              "      <td>Kashkadarya</td>\n",
              "      <td>Кашкадарьинская</td>\n",
              "      <td>Qashqadaryo</td>\n",
              "      <td>province</td>\n",
              "      <td>область</td>\n",
              "      <td>viloyati</td>\n",
              "      <td>UZ10</td>\n",
              "      <td>[(65.7539439386079, 39.510505060745196), (65.7...</td>\n",
              "    </tr>\n",
              "  </tbody>\n",
              "</table>\n",
              "</div>"
            ],
            "text/plain": [
              "      ADM0_EN  ...                                             coords\n",
              "0  Uzbekistan  ...  [(72.35866494475906, 41.064262062192235), (72....\n",
              "1  Uzbekistan  ...  [(63.67380106167065, 40.67515506182987), (63.6...\n",
              "2  Uzbekistan  ...  [(67.32945994007521, 41.202655062321135), (67....\n",
              "3  Uzbekistan  ...  [(71.83503694427134, 39.985980061188044), (71....\n",
              "4  Uzbekistan  ...  [(65.7539439386079, 39.510505060745196), (65.7...\n",
              "\n",
              "[5 rows x 13 columns]"
            ]
          },
          "metadata": {
            "tags": []
          },
          "execution_count": 15
        }
      ]
    },
    {
      "cell_type": "code",
      "metadata": {
        "id": "R6KRylEFiohB"
      },
      "source": [
        "def calc_color(data, color=None):\n",
        "        if color   == 1: color_sq = ['#dadaebFF','#bcbddcF0','#9e9ac8F0',\n",
        "                        '#807dbaF0','#6a51a3F0','#54278fF0']; colors = 'Purples';\n",
        "        elif color == 2: color_sq = ['#c7e9b4','#7fcdbb','#41b6c4',\n",
        "                        '#1d91c0','#225ea8','#253494']; colors = 'YlGnBu';\n",
        "        elif color == 3: color_sq = ['#f7f7f7','#d9d9d9','#bdbdbd',\n",
        "                        '#969696','#636363','#252525']; colors = 'Greys';\n",
        "        elif color == 9: color_sq = ['#ff0000','#ff0000','#ff0000',\n",
        "                        '#ff0000','#ff0000','#ff0000']\n",
        "        else:            color_sq = ['#ffffd4','#fee391','#fec44f',\n",
        "                        '#fe9929','#d95f0e','#993404']; colors = 'YlOrBr';\n",
        "        new_data, bins = pd.qcut(data, 6, retbins=True, \n",
        "        labels=list(range(6)))\n",
        "        color_ton = []\n",
        "        for val in new_data:\n",
        "            color_ton.append(color_sq[val]) \n",
        "        if color != 9:\n",
        "            colors = sns.color_palette(colors, n_colors=6)\n",
        "            sns.palplot(colors, 0.6);\n",
        "            for i in range(6):\n",
        "                print (\"\\n\"+str(i+1)+': '+str(int(bins[i]))+\n",
        "                       \" => \"+str(int(bins[i+1])-1), end =\" \")\n",
        "            print(\"\\n\\n   1   2   3   4   5   6\")    \n",
        "        return color_ton, bins;"
      ],
      "execution_count": 16,
      "outputs": []
    },
    {
      "cell_type": "code",
      "metadata": {
        "id": "dm6NGxX6irJ5"
      },
      "source": [
        "def plot_comunas_data(sf, title, comunas, data=None, \n",
        "                      color=None, print_id=False):\n",
        "    '''\n",
        "    Plot map with selected comunes, using specific color\n",
        "    '''\n",
        "    \n",
        "    color_ton, bins = calc_color(data, color)\n",
        "    df = read_shapefile(sf)\n",
        "    comuna_id = []\n",
        "    for i in comunas:\n",
        "        comuna_id.append(df[df.ADM1_EN == i].index.values[0])\n",
        "    plot_map_fill_multiples_ids_tone(sf, title, comuna_id, \n",
        "                                     print_id, \n",
        "                                     color_ton, \n",
        "                                     bins, \n",
        "                                     x_lim = None, \n",
        "                                     y_lim = None, \n",
        "                                     figsize = (11,9));"
      ],
      "execution_count": 17,
      "outputs": []
    },
    {
      "cell_type": "code",
      "metadata": {
        "id": "udhF48j9itsR"
      },
      "source": [
        "def plot_map_fill_multiples_ids_tone(sf, title, comuna,  \n",
        "                                     print_id, color_ton, \n",
        "                                     bins, \n",
        "                                     x_lim = None, \n",
        "                                     y_lim = None, \n",
        "                                     figsize = (11,9)):\n",
        "    '''\n",
        "    Plot map with lim coordinates\n",
        "    '''\n",
        "        \n",
        "    plt.figure(figsize = figsize)\n",
        "    fig, ax = plt.subplots(figsize = figsize)\n",
        "    fig.suptitle(title, fontsize=16)\n",
        "    for shape in sf.shapeRecords():\n",
        "        x = [i[0] for i in shape.shape.points[:]]\n",
        "        y = [i[1] for i in shape.shape.points[:]]\n",
        "        ax.plot(x, y, 'k')\n",
        "            \n",
        "    for id in comuna:\n",
        "        shape_ex = sf.shape(id)\n",
        "        x_lon = np.zeros((len(shape_ex.points),1))\n",
        "        y_lat = np.zeros((len(shape_ex.points),1))\n",
        "        for ip in range(len(shape_ex.points)):\n",
        "            x_lon[ip] = shape_ex.points[ip][0]\n",
        "            y_lat[ip] = shape_ex.points[ip][1]\n",
        "        ax.fill(x_lon,y_lat, color_ton[comuna.index(id)])\n",
        "        if print_id != False:\n",
        "            x0 = np.mean(x_lon)\n",
        "            y0 = np.mean(y_lat)\n",
        "            plt.text(x0, y0, id, fontsize=10)\n",
        "    if (x_lim != None) & (y_lim != None):     \n",
        "        plt.xlim(x_lim)\n",
        "        plt.ylim(y_lim)"
      ],
      "execution_count": 18,
      "outputs": []
    },
    {
      "cell_type": "code",
      "metadata": {
        "colab": {
          "base_uri": "https://localhost:8080/",
          "height": 834
        },
        "id": "CUx3WbhHiv_B",
        "outputId": "2299b2db-553e-4775-934d-ff73632a44e9"
      },
      "source": [
        "south = ['Andizhan', 'Bukhara', 'Dzhizak', 'Fergana', 'Kashkadarya', 'Khorezm', 'Namangan', 'Navoi', 'Republic of Karakalpakstan', 'Samarkand', 'Surkhandarya', 'Syrdarya', 'Tashkent', 'Tashkent city']\n",
        "data = [1966648, 1225991, 822745, 2394633, 2008384, 1228943, 1761586, 663785, 1158966, 2376413, 1592259, 525947, 1877107, 1662604]\n",
        "print_id = True # The shape id will be printed\n",
        "color_pallete = 2 # 'Purples'\n",
        "plot_comunas_data(sf, 'Number of voters/ Saylovchilar soni', south, data, color_pallete, print_id)"
      ],
      "execution_count": 33,
      "outputs": [
        {
          "output_type": "stream",
          "text": [
            "\n",
            "1: 525947 => 878780 \n",
            "2: 878781 => 1226974 \n",
            "3: 1226975 => 1627430 \n",
            "4: 1627431 => 1838599 \n",
            "5: 1838600 => 2001427 \n",
            "6: 2001428 => 2394632 \n",
            "\n",
            "   1   2   3   4   5   6\n"
          ],
          "name": "stdout"
        },
        {
          "output_type": "display_data",
          "data": {
            "image/png": "[encoded data removed]",
            "text/plain": [
              "<Figure size 259.2x43.2 with 1 Axes>"
            ]
          },
          "metadata": {
            "tags": [],
            "needs_background": "light"
          }
        },
        {
          "output_type": "display_data",
          "data": {
            "text/plain": [
              "<Figure size 792x648 with 0 Axes>"
            ]
          },
          "metadata": {
            "tags": []
          }
        },
        {
          "output_type": "display_data",
          "data": {
            "image/png": "[encoded data removed]",
            "text/plain": [
              "<Figure size 792x648 with 1 Axes>"
            ]
          },
          "metadata": {
            "tags": [],
            "needs_background": "light"
          }
        }
      ]
    },
    {
      "cell_type": "code",
      "metadata": {
        "id": "3QDD4RLPiy7B"
      },
      "source": [
        ""
      ],
      "execution_count": null,
      "outputs": []
    }
  ]
}